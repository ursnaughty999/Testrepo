{
 "cells": [
  {
   "cell_type": "markdown",
   "id": "6e5c9e01",
   "metadata": {},
   "source": [
    "# Data Science Tools and Ecosystem"
   ]
  },
  {
   "cell_type": "markdown",
   "id": "31e0ad4f",
   "metadata": {},
   "source": [
    "In this notebook, Data Science Tools and Ecosystem are summarized."
   ]
  },
  {
   "cell_type": "markdown",
   "id": "4410ff16",
   "metadata": {},
   "source": [
    "Some of the popular languages that Data Scientists use are:\n",
    "1. Python\n",
    "2. R\n",
    "3. Java\n",
    "4. SQL"
   ]
  },
  {
   "cell_type": "markdown",
   "id": "d0dcc1dc",
   "metadata": {},
   "source": [
    "Some of the commonly used libraries used by Data Scientists include:\n"
   ]
  },
  {
   "cell_type": "markdown",
   "id": "889cf001",
   "metadata": {},
   "source": [
    "1. NUMPY\n",
    "2. PANDAS\n",
    "3. PYTORCH\n",
    "4. SCIKIT\n",
    "5. TENSORFLOW"
   ]
  },
  {
   "cell_type": "markdown",
   "id": "27ce21eb",
   "metadata": {},
   "source": [
    "| S.No | Data Science Tools   |\n",
    "| ---- | --------------------- |\n",
    "| 1.   | Python               |\n",
    "| 2.   | Tableau              |\n",
    "| 3.   | Apache Spark         |\n",
    "| 4.   | RStudio              |\n",
    "| 5.   | SQL                  |\n",
    "| 6.   | Git/GitHub           |\n",
    "| 7.   | IBM Watson Studio    |"
   ]
  },
  {
   "cell_type": "markdown",
   "id": "68f42483",
   "metadata": {},
   "source": [
    "### Below are a few examples of evaluating arithmetic expressions in Python"
   ]
  },
  {
   "cell_type": "code",
   "execution_count": 4,
   "id": "6dc1275a",
   "metadata": {},
   "outputs": [
    {
     "data": {
      "text/plain": [
       "17"
      ]
     },
     "execution_count": 4,
     "metadata": {},
     "output_type": "execute_result"
    }
   ],
   "source": [
    "(3*4)+5"
   ]
  },
  {
   "cell_type": "code",
   "execution_count": 5,
   "id": "f95a1a16",
   "metadata": {},
   "outputs": [
    {
     "data": {
      "text/plain": [
       "3.3333333333333335"
      ]
     },
     "execution_count": 5,
     "metadata": {},
     "output_type": "execute_result"
    }
   ],
   "source": [
    "#This will convert 200 minutes to hours by diving by 60\n",
    "200/60"
   ]
  },
  {
   "cell_type": "markdown",
   "id": "8bd7d8ad",
   "metadata": {},
   "source": [
    "**Objectives:**\n",
    "- List popular languages for Data Science.\n",
    "- Explain the key libraries and tools used in Data Science.\n",
    "- Introduce basic data manipulation techniques.\n",
    "- Provide an overview of data visualization techniques.\n",
    "- Discuss the importance of version control and collaboration in Data Science projects."
   ]
  },
  {
   "cell_type": "markdown",
   "id": "e7c88943",
   "metadata": {},
   "source": [
    "## Author\n",
    "Hemanth"
   ]
  },
  {
   "cell_type": "code",
   "execution_count": null,
   "id": "5235616d",
   "metadata": {},
   "outputs": [],
   "source": []
  }
 ],
 "metadata": {
  "kernelspec": {
   "display_name": "Python 3 (ipykernel)",
   "language": "python",
   "name": "python3"
  },
  "language_info": {
   "codemirror_mode": {
    "name": "ipython",
    "version": 3
   },
   "file_extension": ".py",
   "mimetype": "text/x-python",
   "name": "python",
   "nbconvert_exporter": "python",
   "pygments_lexer": "ipython3",
   "version": "3.11.4"
  }
 },
 "nbformat": 4,
 "nbformat_minor": 5
}
